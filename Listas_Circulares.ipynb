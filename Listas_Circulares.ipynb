{
 "cells": [
  {
   "cell_type": "markdown",
   "metadata": {
    "id": "8eG8mmPAlMI7"
   },
   "source": [
    "#Ejemplo de lista circular"
   ]
  },
  {
   "cell_type": "code",
   "execution_count": 1,
   "metadata": {
    "executionInfo": {
     "elapsed": 3,
     "status": "ok",
     "timestamp": 1712867954624,
     "user": {
      "displayName": "Margarita Gamarra",
      "userId": "05885632871224932073"
     },
     "user_tz": 300
    },
    "id": "mQYZkFDwlRvz"
   },
   "outputs": [],
   "source": [
    "class Node(object):\n",
    "    def __init__(self, data):\n",
    "        self.data = data\n",
    "        self.next = None"
   ]
  },
  {
   "cell_type": "code",
   "execution_count": 8,
   "metadata": {
    "executionInfo": {
     "elapsed": 280,
     "status": "ok",
     "timestamp": 1712868128551,
     "user": {
      "displayName": "Margarita Gamarra",
      "userId": "05885632871224932073"
     },
     "user_tz": 300
    },
    "id": "jHV-fyxvlWgs"
   },
   "outputs": [],
   "source": [
    "class Lista_Circular(object):\n",
    "\n",
    "    def __init__(self):\n",
    "        self.head = None\n",
    "\n",
    "    def is_empty(self):\n",
    "\n",
    "        return self.head is None\n",
    "\n",
    "    def length(self):\n",
    "\n",
    "      cur = self.head\n",
    "      count = 0\n",
    "      while cur is not None:\n",
    "          count += 1\n",
    "                  # Si el siguiente nodo del nodo actual es el nodo principal, significa que este nodo es el nodo de cola\n",
    "                  # Si no, mueva el puntero hacia atrás\n",
    "          if cur.next == self.head:\n",
    "              break\n",
    "          else:\n",
    "              cur = cur.next\n",
    "      return count\n",
    "\n",
    "    def imprimir(self):\n",
    "\n",
    "      if self.is_empty():\n",
    "          return\n",
    "      cur = self.head\n",
    "      print(cur.data)\n",
    "      while cur.next != self.head:\n",
    "          cur = cur.next\n",
    "          print(cur.data, end = \"-->\")\n",
    "\n",
    "\n",
    "    def add_first(self, data):\n",
    "\n",
    "      node = Node(data)\n",
    "      if self.is_empty():\n",
    "          self.head = node\n",
    "          node.next = self.head\n",
    "      else:\n",
    "          cur = self.head\n",
    "                  # Mueva el puntero al nodo de cola\n",
    "          while cur.next is not self.head:\n",
    "              cur = cur.next\n",
    "                  # El nodo de cola apunta al nuevo nodo\n",
    "          cur.next = node\n",
    "                  # El nuevo nodo apunta al nodo principal original\n",
    "          node.next = self.head\n",
    "                  # Luego dele el título del nodo principal al nuevo nodo\n",
    "          self.head = node\n",
    "\n",
    "\n",
    "    def add_last(self, data):\n",
    "\n",
    "      node = Node(data)\n",
    "      if self.is_empty():\n",
    "          self.head = node\n",
    "          node.next = self.head\n",
    "      else:\n",
    "          cur = self.head\n",
    "                  # Mueve el puntero al final\n",
    "          while cur.next is not self.head:\n",
    "              cur = cur.next\n",
    "                  # El nodo de cola apunta al nuevo nodo\n",
    "          cur.next = node\n",
    "                  # El nuevo nodo apunta al nodo principal\n",
    "          node.next = self.head\n",
    "\n",
    "\n",
    "    def insert_node(self, index, data):\n",
    "\n",
    "      node = Node(data)\n",
    "      if index < 0 or index > self.length():\n",
    "          print (\"Posición de inserción incorrecta\")\n",
    "          return False\n",
    "      elif index == 0:\n",
    "          self.add_first(data)\n",
    "      elif index == self.length:\n",
    "          self.add_last()\n",
    "      else:\n",
    "          cur = self.head\n",
    "          pre = None # pre es el nodo anterior del nodo señalado por el puntero actual\n",
    "          count = 0\n",
    "                  # Mueva el puntero a la posición para insertar\n",
    "          while count < index:\n",
    "              pre = cur\n",
    "              cur = cur.next\n",
    "              count += 1\n",
    "          pre.next = node\n",
    "          node.next = cur\n",
    "\n",
    "    def remove_node(self, data):\n",
    "\n",
    "      if self.is_empty():\n",
    "          return\n",
    "          # Si el nodo que se va a eliminar es el nodo principal\n",
    "      elif data == self.head.data:\n",
    "          cur = self.head\n",
    "          while cur.next != self.head:\n",
    "              cur = cur.next\n",
    "          cur.next = self.head.next\n",
    "          self.head = self.head.next\n",
    "      else:\n",
    "          cur = self.head\n",
    "          pre = None\n",
    "                  # Mover a la posición del nodo que se va a eliminar\n",
    "          while cur.data != data:\n",
    "              pre = cur\n",
    "              cur = cur.next\n",
    "                  # Apunte el nodo precursor del nodo que se va a eliminar al nodo posterior, de modo que se omita el nodo central\n",
    "          pre.next = cur.next\n",
    "\n",
    "\n",
    "    def remove2_node(self, data):\n",
    "\n",
    "      if self.is_empty():\n",
    "          return\n",
    "          # Si el nodo que se va a eliminar es el nodo principal\n",
    "      elif data == self.head.data:\n",
    "          cur = self.head\n",
    "          while cur.next != self.head:\n",
    "              cur = cur.next\n",
    "          cur.next = self.head.next\n",
    "          self.head = self.head.next\n",
    "      else:\n",
    "        cur = self.head\n",
    "        pre = None\n",
    "        while cur.data != data:\n",
    "            pre = cur\n",
    "            cur = cur.next\n",
    "        #pre.next = cur.next\n",
    "        pre.next = pre.next.next"
   ]
  },
  {
   "cell_type": "code",
   "execution_count": 9,
   "metadata": {
    "colab": {
     "base_uri": "https://localhost:8080/"
    },
    "executionInfo": {
     "elapsed": 194,
     "status": "ok",
     "timestamp": 1712868130069,
     "user": {
      "displayName": "Margarita Gamarra",
      "userId": "05885632871224932073"
     },
     "user_tz": 300
    },
    "id": "Lr6aYH6syuXV",
    "outputId": "ebd7bba1-3e38-4659-ed1a-4563f68bb8ea"
   },
   "outputs": [
    {
     "name": "stdout",
     "output_type": "stream",
     "text": [
      "0\n",
      "Hola-->2-->3-->"
     ]
    }
   ],
   "source": [
    "Lista1=Lista_Circular()\n",
    "Lista1.add_last(2)\n",
    "Lista1.add_first('Hola')\n",
    "Lista1.add_first(0)\n",
    "Lista1.add_last(3)\n",
    "Lista1.imprimir()"
   ]
  },
  {
   "cell_type": "code",
   "execution_count": 10,
   "metadata": {
    "colab": {
     "base_uri": "https://localhost:8080/"
    },
    "executionInfo": {
     "elapsed": 206,
     "status": "ok",
     "timestamp": 1712868132617,
     "user": {
      "displayName": "Margarita Gamarra",
      "userId": "05885632871224932073"
     },
     "user_tz": 300
    },
    "id": "N68Y7a8m0Ukg",
    "outputId": "b7d1d8cb-0fe3-4daf-96ca-b3e37fdd3fcd"
   },
   "outputs": [
    {
     "name": "stdout",
     "output_type": "stream",
     "text": [
      "0\n",
      "Hola-->Mundo-->2-->3-->"
     ]
    }
   ],
   "source": [
    "Lista1.insert_node(2, 'Mundo')\n",
    "Lista1.imprimir()\n"
   ]
  },
  {
   "cell_type": "code",
   "execution_count": 11,
   "metadata": {
    "colab": {
     "base_uri": "https://localhost:8080/"
    },
    "executionInfo": {
     "elapsed": 3,
     "status": "ok",
     "timestamp": 1712868134193,
     "user": {
      "displayName": "Margarita Gamarra",
      "userId": "05885632871224932073"
     },
     "user_tz": 300
    },
    "id": "hrEnoWQY5QFm",
    "outputId": "dcf93995-1609-4c38-fe75-7f3afe3770ad"
   },
   "outputs": [
    {
     "name": "stdout",
     "output_type": "stream",
     "text": [
      "0\n",
      "Hola-->Mundo-->3-->"
     ]
    }
   ],
   "source": [
    "Lista1.remove2_node(2)\n",
    "Lista1.imprimir()"
   ]
  }
 ],
 "metadata": {
  "colab": {
   "authorship_tag": "ABX9TyNYppXNSkAepRlIdWv2/ENP",
   "provenance": []
  },
  "kernelspec": {
   "display_name": "Python 3 (ipykernel)",
   "language": "python",
   "name": "python3"
  },
  "language_info": {
   "codemirror_mode": {
    "name": "ipython",
    "version": 3
   },
   "file_extension": ".py",
   "mimetype": "text/x-python",
   "name": "python",
   "nbconvert_exporter": "python",
   "pygments_lexer": "ipython3",
   "version": "3.12.4"
  }
 },
 "nbformat": 4,
 "nbformat_minor": 4
}

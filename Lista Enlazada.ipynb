{
 "cells": [
  {
   "cell_type": "markdown",
   "metadata": {
    "id": "XDrqtR1ymYzP"
   },
   "source": [
    "# **TAD Lista Enlazada**"
   ]
  },
  {
   "cell_type": "markdown",
   "metadata": {
    "id": "fHIquc2bjl36"
   },
   "source": [
    "##Crear la unidad base de la lista: los nodos\n",
    "Se utiliza el método __init__ para inicializar los valores de la clase."
   ]
  },
  {
   "cell_type": "code",
   "execution_count": 2,
   "metadata": {
    "executionInfo": {
     "elapsed": 240,
     "status": "ok",
     "timestamp": 1711925817255,
     "user": {
      "displayName": "Margarita Gamarra",
      "userId": "05885632871224932073"
     },
     "user_tz": 300
    },
    "id": "HH3Uje5ijx79"
   },
   "outputs": [],
   "source": [
    "class Nodo:\n",
    "    def __init__(self, data = None, next = None):\n",
    "        self.data = data\n",
    "        self.next = next"
   ]
  },
  {
   "cell_type": "markdown",
   "metadata": {
    "id": "BqbXJ0HykrA9"
   },
   "source": [
    "##Se crea la clase de la lista enlazada"
   ]
  },
  {
   "cell_type": "code",
   "execution_count": 15,
   "metadata": {
    "executionInfo": {
     "elapsed": 271,
     "status": "ok",
     "timestamp": 1711926182704,
     "user": {
      "displayName": "Margarita Gamarra",
      "userId": "05885632871224932073"
     },
     "user_tz": 300
    },
    "id": "TlzGhOFAkP8G"
   },
   "outputs": [],
   "source": [
    "class Lista_enlazada:\n",
    "    def __init__(self):\n",
    "        self.head = None\n",
    "\n",
    "    # Método para agregar elementos en el frente de la linked list\n",
    "    def agregar_al_inicio(self, data):\n",
    "        self.head = Nodo(data=data, next=self.head)\n",
    "        #nuevo_nodo = Nodo(data)\n",
    "        #nuevo_nodo.next = self.head\n",
    "        #return nuevo_nodo\n",
    "\n",
    "    # Método para verificar si la estructura de datos esta vacia\n",
    "    def is_empty(self):\n",
    "        return self.head == None\n",
    "\n",
    "    # Método para agregar elementos al final de la lista enlazada\n",
    "    def agregar_al_final(self, data):\n",
    "      #Si la lista no existe, entonces se crea\n",
    "        if not self.head:\n",
    "            self.head = Nodo(data=data)\n",
    "            return\n",
    "        #recorre toda la lista hasta llegar al final,\n",
    "        #cuando temporal.next=None\n",
    "        temporal = self.head\n",
    "        while temporal.next:\n",
    "            temporal = temporal.next\n",
    "        #Cuando llega al final de la lista, enlaza el último nodo con\n",
    "        #el nuevo nodo que se crea\n",
    "        temporal.next = Nodo(data=data)\n",
    "\n",
    "    # Método para eleminar nodos\n",
    "    def delete_node(self, key):\n",
    "        actual = self.head\n",
    "        previo = None\n",
    "        #Se busca el dato a eliminar en la lista\n",
    "        while actual and actual.data != key:\n",
    "            previo = actual\n",
    "            actual = actual.next\n",
    "        #Si el dato a eliminar es el primero,\n",
    "        #entonces se reasigna la cabeza de la lista\n",
    "        if previo is None:\n",
    "            self.head = actual.next\n",
    "        elif actual:\n",
    "            previo.next = actual.next\n",
    "            actual.next = None\n",
    "\n",
    "    # Método para obtener el ultimo nodo\n",
    "    def get_last_node(self):\n",
    "        temp = self.head\n",
    "        while(temp.next is not None):\n",
    "            temp = temp.next\n",
    "        return temp.data\n",
    "\n",
    "    # Método para imprimir la lista de nodos\n",
    "    def print_list( self ):\n",
    "        node = self.head\n",
    "        while node != None:\n",
    "            print(node.data, end =\" --> \")\n",
    "            node = node.next"
   ]
  },
  {
   "cell_type": "markdown",
   "metadata": {
    "id": "mI9IekvCuHXv"
   },
   "source": [
    "##Ejemplo"
   ]
  },
  {
   "cell_type": "code",
   "execution_count": 21,
   "metadata": {
    "colab": {
     "base_uri": "https://localhost:8080/"
    },
    "executionInfo": {
     "elapsed": 220,
     "status": "ok",
     "timestamp": 1711926661547,
     "user": {
      "displayName": "Margarita Gamarra",
      "userId": "05885632871224932073"
     },
     "user_tz": 300
    },
    "id": "TEsMFasDuJjn",
    "outputId": "3b6a17b0-0159-447f-d429-92ad7d4ae2a3"
   },
   "outputs": [
    {
     "name": "stdout",
     "output_type": "stream",
     "text": [
      "5 --> 8 --> "
     ]
    }
   ],
   "source": [
    "Mi_lista = Lista_enlazada() # Instancia de la clase\n",
    "Mi_lista.agregar_al_inicio(5) # Agregamos un elemento al frente del nodo\n",
    "Mi_lista.agregar_al_final(8) # Agregamos un elemento al final del nodo\n",
    "Mi_lista.print_list() # Imprimimos la lista de nodos"
   ]
  },
  {
   "cell_type": "code",
   "execution_count": 17,
   "metadata": {
    "colab": {
     "base_uri": "https://localhost:8080/"
    },
    "executionInfo": {
     "elapsed": 210,
     "status": "ok",
     "timestamp": 1711926187175,
     "user": {
      "displayName": "Margarita Gamarra",
      "userId": "05885632871224932073"
     },
     "user_tz": 300
    },
    "id": "kLWDjmrtv8TA",
    "outputId": "60768836-bdd2-40ac-98b0-971f10d40b01"
   },
   "outputs": [
    {
     "name": "stdout",
     "output_type": "stream",
     "text": [
      "9 --> 5 --> 8 --> "
     ]
    }
   ],
   "source": [
    "Mi_lista.agregar_al_inicio(9) # Agregamos otro elemento al frente del nodo\n",
    "Mi_lista.print_list() # Imprimimos la lista de nodos"
   ]
  },
  {
   "cell_type": "code",
   "execution_count": 19,
   "metadata": {
    "colab": {
     "base_uri": "https://localhost:8080/"
    },
    "executionInfo": {
     "elapsed": 263,
     "status": "ok",
     "timestamp": 1711926265079,
     "user": {
      "displayName": "Margarita Gamarra",
      "userId": "05885632871224932073"
     },
     "user_tz": 300
    },
    "id": "nmDYWZT2wWJv",
    "outputId": "e7bf7987-620f-46eb-abf7-2ef1c9655c8b"
   },
   "outputs": [
    {
     "name": "stdout",
     "output_type": "stream",
     "text": [
      "9 --> 8 --> "
     ]
    }
   ],
   "source": [
    "Mi_lista.delete_node(5) # Eliminamos el elemento 5 de la lista\n",
    "Mi_lista.print_list() # Imprimimos la lista de nodos"
   ]
  }
 ],
 "metadata": {
  "colab": {
   "authorship_tag": "ABX9TyOoWVpMJ2mIgbIf5jF1ljAp",
   "provenance": []
  },
  "kernelspec": {
   "display_name": "Python 3 (ipykernel)",
   "language": "python",
   "name": "python3"
  },
  "language_info": {
   "codemirror_mode": {
    "name": "ipython",
    "version": 3
   },
   "file_extension": ".py",
   "mimetype": "text/x-python",
   "name": "python",
   "nbconvert_exporter": "python",
   "pygments_lexer": "ipython3",
   "version": "3.12.4"
  }
 },
 "nbformat": 4,
 "nbformat_minor": 4
}

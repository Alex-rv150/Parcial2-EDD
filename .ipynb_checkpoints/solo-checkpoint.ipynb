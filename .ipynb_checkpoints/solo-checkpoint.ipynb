{
  "nbformat": 4,
  "nbformat_minor": 0,
  "metadata": {
    "colab": {
      "provenance": []
    },
    "kernelspec": {
      "name": "python3",
      "display_name": "Python 3"
    },
    "language_info": {
      "name": "python"
    }
  },
  "cells": [
    {
      "cell_type": "code",
      "source": [
        "class Nodo:\n",
        "    def __init__(self, data = None, next = None):\n",
        "        self.data = data\n",
        "        self.next = next"
      ],
      "metadata": {
        "id": "I8ugT7G4uHQO"
      },
      "execution_count": null,
      "outputs": []
    },
    {
      "cell_type": "code",
      "execution_count": null,
      "metadata": {
        "id": "0xLOZgLrt5b0"
      },
      "outputs": [],
      "source": [
        "class Lista_enlazada:\n",
        "    def __init__(self):\n",
        "        self.head = None\n",
        "\n",
        "    # Método para agregar elementos en el frente de la linked list\n",
        "    def agregar_al_inicio(self, data):\n",
        "        self.head = Nodo(data=data, next=self.head)\n",
        "        #nuevo_nodo = Nodo(data)\n",
        "        #nuevo_nodo.next = self.head\n",
        "        #return nuevo_nodo\n",
        "\n",
        "    # Método para verificar si la estructura de datos esta vacia\n",
        "    def is_empty(self):\n",
        "        return self.head == None\n",
        "\n",
        "    # Método para agregar elementos al final de la lista enlazada\n",
        "    def agregar_al_final(self, data):\n",
        "      #Si la lista no existe, entonces se crea\n",
        "        if not self.head:\n",
        "            self.head = Nodo(data=data)\n",
        "            return\n",
        "        #recorre toda la lista hasta llegar al final,\n",
        "        #cuando temporal.next=None\n",
        "        temporal = self.head\n",
        "        while temporal.next:\n",
        "            temporal = temporal.next\n",
        "        #Cuando llega al final de la lista, enlaza el último nodo con\n",
        "        #el nuevo nodo que se crea\n",
        "        temporal.next = Nodo(data=data)\n",
        "\n",
        "    # Método para eleminar nodos\n",
        "    def delete_node(self, key):\n",
        "        actual = self.head\n",
        "        previo = None\n",
        "        #Se busca el dato a eliminar en la lista\n",
        "        while actual and actual.data != key:\n",
        "            previo = actual\n",
        "            actual = actual.next\n",
        "        #Si el dato a eliminar es el primero,\n",
        "        #entonces se reasigna la cabeza de la lista\n",
        "        if previo is None:\n",
        "            self.head = actual.next\n",
        "        elif actual:\n",
        "            previo.next = actual.next\n",
        "            actual.next = None\n",
        "\n",
        "    # Método para obtener el ultimo nodo\n",
        "    def get_last_node(self):\n",
        "        temp = self.head\n",
        "        while(temp.next is not None):\n",
        "            temp = temp.next\n",
        "        return temp.data\n",
        "\n",
        "    # Método para imprimir la lista de nodos\n",
        "    def print_list( self ):\n",
        "        node = self.head\n",
        "        while node != None:\n",
        "            print(node.data, end =\" --> \")\n",
        "            node = node.next\n",
        "    def insertar_nodo(self, data,posicion):\n",
        "        nuevo_nodo = Nodo(data)\n",
        "        if posicion == 0:\n",
        "            self.agregar_al_inicio(data)\n",
        "        else:\n",
        "          pasado = self.head\n",
        "          actual=  self.head.next\n",
        "\n",
        "          for i in range(1, posicion):\n",
        "            pasado = actual\n",
        "            actual = actual.next\n",
        "\n",
        "          nuevo_nodo = Nodo(data,next= self.head)\n",
        "          pasado.next = nuevo_nodo\n",
        "          nuevo_nodo.next = actual\n",
        "\n",
        "\n",
        "\n",
        "    def insertar_nodo_reference(self, data,reference):\n",
        "\n",
        "\n",
        "        if self.head  == reference:\n",
        "            agregar_al_inicio(data)\n",
        "        else:\n",
        "          actual = self.head\n",
        "          actual_siguente = self.head.next\n",
        "          bandera = 0\n",
        "          while  bandera == 0 and actual != None:\n",
        "            if actual.data == reference:\n",
        "              bandera = 1\n",
        "            else:\n",
        "              actual = actual.next\n",
        "              if actual_siguente != None:\n",
        "                actual_siguente = actual.next\n",
        "              else:\n",
        "                actual_siguente = \"ultimo\"\n",
        "\n",
        "\n",
        "          if(bandera == 0):\n",
        "            print(\"No se encontro la referencia\")\n",
        "\n",
        "\n",
        "          if(bandera == 1):\n",
        "            if actual_siguente == \"ultimo\":\n",
        "              self.agregar_al_final(data)\n",
        "\n",
        "            else:\n",
        "              nuevo_nodo = Nodo(data,next= actual_siguente)\n",
        "              actual.next = nuevo_nodo\n",
        "\n",
        "\n"
      ]
    },
    {
      "cell_type": "code",
      "source": [
        "Mi_lista = Lista_enlazada() # Instancia de la clase\n",
        "Mi_lista.agregar_al_inicio(5) # Agregamos un elemento al frente del nodo\n",
        "Mi_lista.agregar_al_final(8) # Agregamos un elemento al final del nodo\n",
        "Mi_lista.print_list()"
      ],
      "metadata": {
        "colab": {
          "base_uri": "https://localhost:8080/"
        },
        "id": "NhZhMYbLuVJQ",
        "outputId": "e9a53f51-e9a1-421c-cc3a-755a70375211"
      },
      "execution_count": null,
      "outputs": [
        {
          "output_type": "stream",
          "name": "stdout",
          "text": [
            "5 --> 8 --> "
          ]
        }
      ]
    },
    {
      "cell_type": "code",
      "source": [
        "Mi_lista.insertar_nodo(\"80\",2)\n",
        "Mi_lista.insertar_nodo(\"90\",3)\n",
        "Mi_lista.print_list()"
      ],
      "metadata": {
        "id": "KdY3NKtt0svj",
        "colab": {
          "base_uri": "https://localhost:8080/"
        },
        "outputId": "066e8efa-35dd-49b6-b0c2-f2411e73fc2d"
      },
      "execution_count": null,
      "outputs": [
        {
          "output_type": "stream",
          "name": "stdout",
          "text": [
            "5 --> 8 --> 80 --> 90 --> "
          ]
        }
      ]
    },
    {
      "cell_type": "code",
      "source": [
        "Mi_lista.insertar_nodo_reference(\"No te creo\",8)\n",
        "Mi_lista.print_list()"
      ],
      "metadata": {
        "colab": {
          "base_uri": "https://localhost:8080/"
        },
        "id": "v4c6iDSGqUHU",
        "outputId": "406be3e0-9c97-4c55-aa9c-f9226fe9d70b"
      },
      "execution_count": null,
      "outputs": [
        {
          "output_type": "stream",
          "name": "stdout",
          "text": [
            "5 --> 8 --> No te creo --> 80 --> 90 --> "
          ]
        }
      ]
    }
  ]
}